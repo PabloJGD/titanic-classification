{
 "cells": [
  {
   "cell_type": "markdown",
   "metadata": {},
   "source": [
    "# PREPROCESSING"
   ]
  },
  {
   "cell_type": "markdown",
   "metadata": {},
   "source": [
    "## Load data"
   ]
  },
  {
   "cell_type": "code",
   "execution_count": 1,
   "metadata": {
    "collapsed": true
   },
   "outputs": [],
   "source": [
    "%matplotlib inline\n",
    "import matplotlib.pyplot as plt\n",
    "import matplotlib \n",
    "import numpy as np\n",
    "import pandas as pd\n",
    "from pandas import Series, DataFrame\n",
    "import seaborn as sns\n",
    "from scipy.stats import norm\n",
    "import random as rand\n",
    "import pickle\n",
    "import re\n",
    "from itertools import groupby\n",
    "from operator import itemgetter\n",
    "\n",
    "# Environment settings\n",
    "data_path = 'Data/'\n",
    "    \n",
    "# Deserialize previously saved data from \"data-visualization\"\n",
    "dataframes = {}\n",
    "for df_name in ['test', 'train']:\n",
    "    with open(data_path+df_name+'_dv.obj', 'rb') as file:\n",
    "        dataframes[df_name] = pickle.load(file)"
   ]
  },
  {
   "cell_type": "markdown",
   "metadata": {},
   "source": [
    "## Preprocess"
   ]
  },
  {
   "cell_type": "code",
   "execution_count": 2,
   "metadata": {
    "collapsed": true
   },
   "outputs": [],
   "source": [
    "# Remove useless columns\n",
    "for df_name, df in dataframes.items():\n",
    "    dataframes[df_name] = df.drop(['PassengerId', 'Ticket','Cabin'], axis=1)"
   ]
  },
  {
   "cell_type": "code",
   "execution_count": 3,
   "metadata": {
    "collapsed": true
   },
   "outputs": [],
   "source": [
    "# Transform category data into numerical\n",
    "# hack for seaborn heatmap (no support for categorical values)\n",
    "for df_name, df in dataframes.items():\n",
    "    df['Sex'] = [0 if x == 'male' else 1 for x in df['Sex']]\n",
    "    \n",
    "# One hot encoding for Embark\n",
    "for df_name, df in dataframes.items():\n",
    "    f_df = pd.get_dummies(dataframes[df_name][['Embarked']], drop_first=True)\n",
    "    dataframes[df_name].drop(['Embarked'], axis=1, inplace=True)\n",
    "    dataframes[df_name] = pd.concat([dataframes[df_name], f_df], axis=1)"
   ]
  },
  {
   "cell_type": "code",
   "execution_count": 4,
   "metadata": {},
   "outputs": [
    {
     "name": "stdout",
     "output_type": "stream",
     "text": [
      "Number of missing 'Age' points in training set 0\n",
      "Number of missing 'Age' points in test set 0\n"
     ]
    },
    {
     "data": {
      "image/png": "[encoded data removed]",
      "text/plain": [
       "<matplotlib.figure.Figure at 0x10f61fb38>"
      ]
     },
     "metadata": {},
     "output_type": "display_data"
    }
   ],
   "source": [
    "# Replace Age missing values with data generated from gaussian\n",
    "np.random.seed(666)\n",
    "for df_name, df in dataframes.items():\n",
    "    # create gaussian with available da\n",
    "    nan_filter = df['Age'].isna()\n",
    "    mu, sigma = norm.fit(df[-nan_filter]['Age'])\n",
    "    norm_dist = np.random.normal(mu, sigma, nan_filter.sum())\n",
    "    df.loc[nan_filter,'Age'] = norm_dist\n",
    "    \n",
    "    # set to zero all ages below zero\n",
    "    df.loc[df.Age<0, 'Age'] = 0\n",
    "\n",
    "# Plot histogram of the gaussian distribution of the age\n",
    "plt.hist(dataframes['train']['Age'], bins='auto')\n",
    "plt.hist(dataframes['test']['Age'], bins='auto')\n",
    "print(\"Number of missing 'Age' points in training set {}\".format(dataframes['train']['Age'].isna().sum()))\n",
    "print(\"Number of missing 'Age' points in test set {}\".format(dataframes['test']['Age'].isna().sum()))"
   ]
  },
  {
   "cell_type": "code",
   "execution_count": 5,
   "metadata": {},
   "outputs": [
    {
     "name": "stdout",
     "output_type": "stream",
     "text": [
      "152    3\n",
      "Name: Pclass, dtype: category\n",
      "Categories (3, object): [1, 2, 3]\n",
      "Number of missing 'Fare' points is in test set 0\n"
     ]
    },
    {
     "data": {
      "image/png": "[encoded data removed]",
      "text/plain": [
       "<matplotlib.figure.Figure at 0x10f673a90>"
      ]
     },
     "metadata": {},
     "output_type": "display_data"
    }
   ],
   "source": [
    "# Replace Fare missing values in test set with data generated from gaussian\n",
    "sns.distplot(dataframes['test']['Fare'][~np.isnan(dataframes['test']['Fare'])]);\n",
    "\n",
    "# Group fare by class\n",
    "grouped = dataframes['test'].groupby('Pclass').mean()\n",
    "grouped_fare = grouped['Fare']\n",
    "\n",
    "# Get row (1 row in this case) that has missing value\n",
    "nan_filter = dataframes['test']['Fare'].isna()\n",
    "print(dataframes['test'].loc[nan_filter,'Pclass'])\n",
    "\n",
    "# Since the missing value comes from a third class passenger, replace missing value\n",
    "# with mean of third class fares\n",
    "dataframes['test'].loc[nan_filter,'Fare'] = grouped_fare[2]\n",
    "print(\"Number of missing 'Fare' points is in test set {}\".format(dataframes['test']['Fare'].isna().sum()))"
   ]
  },
  {
   "cell_type": "code",
   "execution_count": 6,
   "metadata": {},
   "outputs": [
    {
     "name": "stderr",
     "output_type": "stream",
     "text": [
      "/Users/yannickgiovanakis/anaconda3/lib/python3.6/site-packages/seaborn/categorical.py:1460: FutureWarning: remove_na is deprecated and is a private function. Do not use.\n",
      "  stat_data = remove_na(group_data)\n"
     ]
    },
    {
     "data": {
      "image/png": "[encoded data removed]",
      "text/plain": [
       "<matplotlib.figure.Figure at 0x10f5ec0b8>"
      ]
     },
     "metadata": {},
     "output_type": "display_data"
    }
   ],
   "source": [
    "# Create a new feature Title which contains titles from Names\n",
    "for df_name, df in dataframes.items():\n",
    "    df['Title'] = df['Name'].apply(lambda name: re.search(' ([A-Za-z]+)\\.', name).group(1))\n",
    "    dataframes[df_name] = df.drop(['Name'], axis=1) # drop Name which is not useful anymore\n",
    "    \n",
    "fig, (axis1) = plt.subplots(1,figsize=(18,6))\n",
    "sns.barplot(x='Title', y='Survived', data=dataframes['train'], ax=axis1)\n",
    "\n",
    "# get titles with corresponding survival rate\n",
    "title_survival = dataframes['train'][['Title', 'Survived']].groupby(['Title'], as_index=False) \\\n",
    ".mean().sort_values(by='Survived', ascending=False).values\n",
    "\n",
    "# round values and change tuple key\n",
    "title_survival = list(map(lambda x: (round(x[1], 1), x[0]), title_survival))\n",
    "\n",
    "# group titles by occurrency rate\n",
    "title_survival_grouped = \\\n",
    "[(k, list(list(zip(*g))[1])) for k, g in groupby(title_survival, itemgetter(0))]\n",
    "\n",
    "# get to categorical class mapper\n",
    "i = 0\n",
    "title_survival_categorical = list()\n",
    "for x in title_survival_grouped:\n",
    "    title_survival_categorical.append((i, x[1]))\n",
    "    i += 1\n",
    "\n",
    "# convert Title in dataframes to categorical\n",
    "for df_name, df in dataframes.items():\n",
    "    for key, titles in title_survival_categorical:\n",
    "        df['Title'] = df['Title'].replace(titles, key)"
   ]
  },
  {
   "cell_type": "markdown",
   "metadata": {},
   "source": [
    "## Save data"
   ]
  },
  {
   "cell_type": "code",
   "execution_count": 7,
   "metadata": {
    "collapsed": true
   },
   "outputs": [],
   "source": [
    "# Serialize dataframes for later use in implementations\n",
    "for df_name, df in dataframes.items():\n",
    "    with open(data_path+df_name+'_pp.obj', 'wb') as file:\n",
    "        pickle.dump(df, file)"
   ]
  },
  {
   "cell_type": "code",
   "execution_count": null,
   "metadata": {
    "collapsed": true
   },
   "outputs": [],
   "source": []
  }
 ],
 "metadata": {
  "kernelspec": {
   "display_name": "Python 3",
   "language": "python",
   "name": "python3"
  },
  "language_info": {
   "codemirror_mode": {
    "name": "ipython",
    "version": 3
   },
   "file_extension": ".py",
   "mimetype": "text/x-python",
   "name": "python",
   "nbconvert_exporter": "python",
   "pygments_lexer": "ipython3",
   "version": "3.6.2"
  }
 },
 "nbformat": 4,
 "nbformat_minor": 2
}
