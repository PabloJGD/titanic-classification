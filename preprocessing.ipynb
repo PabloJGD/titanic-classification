{
 "cells": [
  {
   "cell_type": "markdown",
   "metadata": {},
   "source": [
    "# PREPROCESSING"
   ]
  },
  {
   "cell_type": "markdown",
   "metadata": {},
   "source": [
    "## Load data"
   ]
  },
  {
   "cell_type": "code",
   "execution_count": 1,
   "metadata": {},
   "outputs": [],
   "source": [
    "%matplotlib inline\n",
    "import matplotlib.pyplot as plt\n",
    "import matplotlib \n",
    "import numpy as np\n",
    "import pandas as pd\n",
    "from pandas import Series, DataFrame\n",
    "import seaborn as sns\n",
    "from scipy.stats import norm\n",
    "import random as rand\n",
    "import pickle\n",
    "\n",
    "# Environment settings\n",
    "data_path = 'Data/'\n",
    "    \n",
    "# Deserialize previously saved data from \"data-visualization\"\n",
    "dataframes = {}\n",
    "for df_name in ['test', 'train']:\n",
    "    with open(data_path+df_name+'_dv.obj', 'rb') as file:\n",
    "        dataframes[df_name] = pickle.load(file)"
   ]
  },
  {
   "cell_type": "markdown",
   "metadata": {},
   "source": [
    "## Preprocess"
   ]
  },
  {
   "cell_type": "code",
   "execution_count": 2,
   "metadata": {},
   "outputs": [],
   "source": [
    "# Remove columns & missing value rows\n",
    "for df_name, df in dataframes.items():\n",
    "    df = df.drop(['Ticket','Cabin'], axis=1)"
   ]
  },
  {
   "cell_type": "code",
   "execution_count": 3,
   "metadata": {},
   "outputs": [],
   "source": [
    "# Transform category data into numerical\n",
    "# hack for seaborn heatmap (no support for categorical values)\n",
    "for df_name, df in dataframes.items():\n",
    "    df['Sex'] = [0 if x == 'male' else 1 for x in df['Sex']]"
   ]
  },
  {
   "cell_type": "code",
   "execution_count": 4,
   "metadata": {},
   "outputs": [
    {
     "name": "stdout",
     "output_type": "stream",
     "text": [
      "Number of missing 'Age' points is 0\n"
     ]
    },
    {
     "data": {
      "image/png": "[encoded data removed]",
      "text/plain": [
       "<Figure size 432x288 with 1 Axes>"
      ]
     },
     "metadata": {},
     "output_type": "display_data"
    }
   ],
   "source": [
    "# Replace Age missing values with data generated from gaussian\n",
    "np.random.seed(666)\n",
    "\n",
    "for df_name, df in dataframes.items():\n",
    "    # create gaussian with available da\n",
    "    nan_filter = df['Age'].isna()\n",
    "    mu, sigma = norm.fit(df[-nan_filter]['Age'])\n",
    "    norm_dist = np.random.normal(mu, sigma, nan_filter.sum())\n",
    "    df.loc[nan_filter,'Age'] = norm_dist\n",
    "    \n",
    "    # set to zero all ages below zero\n",
    "    df.loc[df.Age<0, 'Age'] = 0\n",
    "\n",
    "# Plot histogram of the gaussian distribution of the age\n",
    "plt.hist(dataframes['train']['Age'], bins='auto')\n",
    "print(\"Number of missing 'Age' points is {}\".format(dataframes['train']['Age'].isna().sum()))"
   ]
  },
  {
   "cell_type": "markdown",
   "metadata": {},
   "source": [
    "## Save data"
   ]
  },
  {
   "cell_type": "code",
   "execution_count": 5,
   "metadata": {},
   "outputs": [],
   "source": [
    "# Serialize dataframes for later use in implementations\n",
    "for df_name, df in dataframes.items():\n",
    "    with open(data_path+df_name+'_pp.obj', 'wb') as file:\n",
    "        pickle.dump(df, file)"
   ]
  },
  {
   "cell_type": "code",
   "execution_count": null,
   "metadata": {},
   "outputs": [],
   "source": []
  }
 ],
 "metadata": {
  "kernelspec": {
   "display_name": "Python 3",
   "language": "python",
   "name": "python3"
  },
  "language_info": {
   "codemirror_mode": {
    "name": "ipython",
    "version": 3
   },
   "file_extension": ".py",
   "mimetype": "text/x-python",
   "name": "python",
   "nbconvert_exporter": "python",
   "pygments_lexer": "ipython3",
   "version": "3.6.3"
  }
 },
 "nbformat": 4,
 "nbformat_minor": 2
}
