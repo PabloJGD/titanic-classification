{
 "cells": [
  {
   "cell_type": "markdown",
   "metadata": {},
   "source": [
    "# Support Vector Machine"
   ]
  },
  {
   "cell_type": "markdown",
   "metadata": {},
   "source": [
    "## Load Data"
   ]
  },
  {
   "cell_type": "code",
   "execution_count": 1,
   "metadata": {
    "collapsed": true
   },
   "outputs": [],
   "source": [
    "%matplotlib inline\n",
    "import numpy as np\n",
    "import pandas as pd\n",
    "from pandas import Series, DataFrame\n",
    "from sklearn import svm\n",
    "from sklearn.model_selection import train_test_split, cross_val_score\n",
    "import matplotlib.pyplot as plt\n",
    "import pickle\n",
    "\n",
    "# Environment settings\n",
    "data_path = 'Data/'\n",
    "\n",
    "# Deserialize previously saved data from \"preprocessing\"\n",
    "with open(data_path+'train_pp.obj', 'rb') as train_pp, \\\n",
    "open(data_path+'test_pp.obj', 'rb') as test_pp:\n",
    "    df_train = pickle.load(train_pp)\n",
    "    df_test = pickle.load(test_pp)"
   ]
  },
  {
   "cell_type": "markdown",
   "metadata": {},
   "source": [
    "## Data processing and model training"
   ]
  },
  {
   "cell_type": "code",
   "execution_count": 2,
   "metadata": {
    "collapsed": true
   },
   "outputs": [],
   "source": [
    "# Preprocessing\n",
    "dv_train_X = df_train.drop(['Survived'], axis=1).values\n",
    "dv_train_y = df_train['Survived'].values\n",
    "dv_test_X = df_test.values"
   ]
  },
  {
   "cell_type": "code",
   "execution_count": 3,
   "metadata": {
    "collapsed": true
   },
   "outputs": [],
   "source": [
    "# Prepare training set\n",
    "X_train, X_test, y_train, y_test = train_test_split(\n",
    "    dv_train_X, dv_train_y, test_size=0.3, random_state=1, stratify=dv_train_y);"
   ]
  },
  {
   "cell_type": "code",
   "execution_count": 4,
   "metadata": {
    "collapsed": true
   },
   "outputs": [],
   "source": [
    "# Model training\n",
    "svc_params = {\n",
    "    'kernel': 'linear', # kernel type\n",
    "    'C': 1.0 #regularization parameter\n",
    "}\n",
    "\n",
    "svc = svm.SVC(**svc_params).fit(X_train, y_train)"
   ]
  },
  {
   "cell_type": "markdown",
   "metadata": {},
   "source": [
    "# Score"
   ]
  },
  {
   "cell_type": "code",
   "execution_count": 5,
   "metadata": {},
   "outputs": [
    {
     "name": "stdout",
     "output_type": "stream",
     "text": [
      "Accuracy with test set: 0.84\n"
     ]
    }
   ],
   "source": [
    "# Test set score\n",
    "testset_score = svc.score(X_test, y_test)\n",
    "print(\"Accuracy with test set: {}\".format(round(testset_score,2)))"
   ]
  },
  {
   "cell_type": "code",
   "execution_count": 6,
   "metadata": {},
   "outputs": [
    {
     "name": "stdout",
     "output_type": "stream",
     "text": [
      "Accuracy with cross-validation (split size = 5): 0.83 (+/- 0.05)\n"
     ]
    }
   ],
   "source": [
    "# Cross-validation score\n",
    "cv_iterations = 5\n",
    "cv_score = cross_val_score(svc, dv_train_X, dv_train_y, cv=cv_iterations)\n",
    "print(\"Accuracy with cross-validation (split size = {}): {} (+/- {})\"\n",
    "      .format(cv_iterations, round(cv_score.mean(),2), round(cv_score.std() * 2,2)))"
   ]
  },
  {
   "cell_type": "code",
   "execution_count": null,
   "metadata": {
    "collapsed": true
   },
   "outputs": [],
   "source": []
  }
 ],
 "metadata": {
  "kernelspec": {
   "display_name": "Python 3",
   "language": "python",
   "name": "python3"
  },
  "language_info": {
   "codemirror_mode": {
    "name": "ipython",
    "version": 3
   },
   "file_extension": ".py",
   "mimetype": "text/x-python",
   "name": "python",
   "nbconvert_exporter": "python",
   "pygments_lexer": "ipython3",
   "version": "3.6.2"
  }
 },
 "nbformat": 4,
 "nbformat_minor": 2
}
