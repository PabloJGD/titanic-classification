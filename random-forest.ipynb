{
 "cells": [
  {
   "cell_type": "code",
   "execution_count": 8,
   "metadata": {
    "collapsed": true
   },
   "outputs": [],
   "source": [
    "%matplotlib inline\n",
    "import matplotlib.pyplot as plt\n",
    "import matplotlib \n",
    "import numpy as np\n",
    "import pandas as pd\n",
    "from pandas import Series, DataFrame\n",
    "import pickle\n",
    "from sklearn.model_selection import train_test_split\n",
    "from sklearn.model_selection import StratifiedKFold\n",
    "from sklearn.model_selection import learning_curve\n",
    "from sklearn.model_selection import validation_curve\n",
    "from sklearn.ensemble import AdaBoostClassifier\n",
    "from sklearn.metrics import accuracy_score\n",
    "from scipy.stats import norm\n",
    "import random as rand\n",
    "import warnings\n",
    "\n",
    "# environment settings\n",
    "data_path = 'Data/'\n",
    "warnings.filterwarnings('ignore')\n",
    "\n",
    "# Deserialize previously saved data from \"preprocessing\"\n",
    "filehandler = open(data_path+'train_pp.obj', 'rb')\n",
    "df = pickle.load(filehandler)\n",
    "filehandler.close()"
   ]
  },
  {
   "cell_type": "code",
   "execution_count": 9,
   "metadata": {
    "collapsed": true
   },
   "outputs": [],
   "source": [
    "def plot_cv_overfitting(classifier,param, param_range):\n",
    "    train_scores,test_scores= validation_curve(estimator=classifier,\n",
    "                                              X=X_train,\n",
    "                                              y=y_train,\n",
    "                                              param_name=param,\n",
    "                                              param_range=param_range,\n",
    "                                              cv=10)\n",
    "    train_mean = np.mean(train_scores,axis=1)\n",
    "    train_std = np.std(train_scores,axis=1)\n",
    "    test_mean = np.mean(test_scores,axis=1)\n",
    "    test_std = np.std(test_scores,axis=1)\n",
    "    \n",
    "    fig = plt.figure(figsize=(10,5))\n",
    "    \n",
    "    plt.plot(param_range,\n",
    "             train_mean,\n",
    "             color='blue',\n",
    "             marker='o' ,\n",
    "             markersize=5,\n",
    "             label='training accuracy')\n",
    "    plt.fill_between(param_range,\n",
    "                     train_mean+train_std,\n",
    "                     train_mean-train_std,\n",
    "                     alpha=0.15,color='blue')\n",
    "    plt.plot(param_range,\n",
    "             test_mean,\n",
    "             color='green',\n",
    "             linestyle=\"--\",\n",
    "             marker='s',\n",
    "             markersize=5,\n",
    "             label='validation accuracy')\n",
    "    plt.fill_between(param_range,\n",
    "                     test_mean+test_std,\n",
    "                     test_mean-test_std,\n",
    "                     alpha=0.15,color='green')\n",
    "    plt.grid()\n",
    "    plt.xscale('log')\n",
    "    plt.xlabel(param)\n",
    "    plt.ylabel('Accuracy')\n",
    "    plt.legend(loc='lower right')\n",
    "    plt.ylim([0.6 ,1.1])\n",
    "    plt.show()"
   ]
  },
  {
   "cell_type": "code",
   "execution_count": 10,
   "metadata": {
    "collapsed": true
   },
   "outputs": [],
   "source": [
    "def plot_cv_accuracy(classifier):\n",
    "    train_sizes,train_scores,test_scores =\\\n",
    "                        learning_curve(estimator=classifier,\n",
    "                                       X=X_train,\n",
    "                                       y=y_train,\n",
    "                                       train_sizes=np.linspace(0.1,1.0,10),\n",
    "                                       cv=10,\n",
    "                                       n_jobs=1)\n",
    "    \n",
    "    train_mean = np.mean(train_scores,axis=1)\n",
    "    train_std = np.std(train_scores,axis=1)\n",
    "    test_mean = np.mean(test_scores,axis=1)\n",
    "    test_std = np.std(test_scores,axis=1)\n",
    "    \n",
    "    \n",
    "    fig = plt.figure(figsize=(10,5))\n",
    "    plt.plot(train_sizes,\n",
    "             train_mean,\n",
    "             color='blue',\n",
    "             marker='o' ,\n",
    "             markersize=5,\n",
    "             label='training accuracy')\n",
    "    plt.fill_between(train_sizes,\n",
    "                     train_mean+train_std,\n",
    "                     train_mean-train_std,\n",
    "                     alpha=0.15,color='blue')\n",
    "    plt.plot(train_sizes,\n",
    "             test_mean,\n",
    "             color='green',\n",
    "             linestyle=\"--\",\n",
    "             marker='s',\n",
    "             markersize=5,\n",
    "             label='validation accuracy')\n",
    "    plt.fill_between(train_sizes,\n",
    "                     test_mean+test_std,\n",
    "                     test_mean-test_std,\n",
    "                     alpha=0.15,color='green')\n",
    "    plt.grid()\n",
    "    plt.xlabel('Number of training samples')\n",
    "    plt.ylabel('Accuracy')\n",
    "    plt.legend(loc='lower right')\n",
    "    plt.ylim([0.6 ,1.1])\n",
    "    plt.show()"
   ]
  },
  {
   "cell_type": "code",
   "execution_count": 11,
   "metadata": {
    "collapsed": true
   },
   "outputs": [],
   "source": [
    "#open test set\n",
    "test_path = data_path+\"test.csv\"\n",
    "test_df = pd.read_csv(test_path, dtype={\n",
    "    'PassengerId': str,\n",
    "    'Pclass': 'category', # Ticket class: 1 = 1st, 2 = 2nd, 3 = 3rd\n",
    "    'Name': str,\n",
    "    'Sex': 'category',\n",
    "    'Age': float,\n",
    "    'SibSp': 'uint8', # number of siblings/spouses aboard\n",
    "    'Parch': 'uint8', # number of parents/children aboard\n",
    "    'Ticket': str, # Ticket number\n",
    "    'Fare': float, # Passenger fare\n",
    "    'Cabin': str, # Cabin number\n",
    "    'Embarked': 'category'}) # Port of embarkation: C = Cherbourg, Q = Queenstown, S = Southampton\n",
    "\n",
    "#This part should be moved to preprocessing!\n",
    "test_df = test_df.drop(['Ticket','Cabin'], axis=1)\n",
    "test_df['Sex'] = [0 if x == 'male' else 1 for x in test_df['Sex'] ]\n",
    "# Replace Age missing values with data generated from gaussian\n",
    "nan_filter = test_df['Age'].isnull()\n",
    "np.random.seed(666)\n",
    "mu, sigma = norm.fit(test_df[-nan_filter]['Age'])\n",
    "norm_dist = np.random.normal(mu, sigma, nan_filter.sum())\n",
    "test_df.loc[nan_filter,'Age'] = norm_dist\n",
    "# Replace Fare missing values with data generated from gaussian\n",
    "nan_filter = test_df['Fare'].isnull()\n",
    "np.random.seed(666)\n",
    "mu, sigma = norm.fit(test_df[-nan_filter]['Fare'])\n",
    "norm_dist = np.random.normal(mu, sigma, nan_filter.sum())\n",
    "test_df.loc[nan_filter,'Fare'] = norm_dist\n",
    "# Set to zero all ages below zero\n",
    "test_df.loc[df.Age<0 , 'Age'] = 0"
   ]
  },
  {
   "cell_type": "code",
   "execution_count": 12,
   "metadata": {
    "collapsed": true
   },
   "outputs": [],
   "source": [
    "#Separate training set from target variables\n",
    "y = np.asarray(df['Survived'])\n",
    "X = df\n",
    "X = X.drop(['Survived','Embarked','Name'], axis=1)\n",
    "X = np.asarray(X)\n",
    "#Create training set and test set with split 0.2\n",
    "X_train , X_test ,y_train,y_test = train_test_split(X,\n",
    "                                                    y, \n",
    "                                                    test_size=0.2, \n",
    "                                                    random_state=1, \n",
    "                                                    stratify=y)\n",
    "\n",
    "#Clean test_set\n",
    "test_set = test_df\n",
    "test_set=test_set.drop(['Embarked','Name'], axis=1)\n"
   ]
  },
  {
   "cell_type": "code",
   "execution_count": 22,
   "metadata": {},
   "outputs": [
    {
     "name": "stdout",
     "output_type": "stream",
     "text": [
      "\n",
      "CV accuracy : 0.7963536776212833 +/- 0.040919041539381924\n",
      "Random Forest test accuracies 0.8491620111731844\n"
     ]
    }
   ],
   "source": [
    "import sklearn.ensemble as ske\n",
    "\n",
    "#Kfold cross-validation with 10 folds\n",
    "kfold = StratifiedKFold(n_splits=10,random_state=1).split(X_train,y_train)\n",
    "\n",
    "#Initialization of Random Forest Classifier\n",
    "rf = ske.RandomForestClassifier(n_estimators=50,\n",
    "                                max_features=3).fit(X_train, y_train)\n",
    "\n",
    "#Cross-validation score saved in scores array\n",
    "scores= []\n",
    "for k,(train,test) in enumerate(kfold):\n",
    "    rf.fit(X_train[train], y_train[train])\n",
    "    rf_train_score = rf.score(X_train[test],y_train[test])\n",
    "    scores.append(rf_train_score)\n",
    "print(\"\\nCV accuracy : {} +/- {}\".format(np.mean(scores),np.std(scores)))\n",
    "rf_test_score=rf.score(X_test,y_test)\n",
    "print(\"Random Forest test accuracies {}\".format(rf_test_score))"
   ]
  },
  {
   "cell_type": "code",
   "execution_count": 18,
   "metadata": {},
   "outputs": [
    {
     "data": {
      "image/png": "[encoded data removed]",
      "text/plain": [
       "<matplotlib.figure.Figure at 0x10f40ff28>"
      ]
     },
     "metadata": {},
     "output_type": "display_data"
    },
    {
     "data": {
      "image/png": "[encoded data removed]",
      "text/plain": [
       "<matplotlib.figure.Figure at 0x10733c630>"
      ]
     },
     "metadata": {},
     "output_type": "display_data"
    }
   ],
   "source": [
    "#Plotting graphs\n",
    "plot_cv_accuracy(rf)\n",
    "plot_cv_overfitting(rf,'n_estimators',[1,10,100,1000])"
   ]
  },
  {
   "cell_type": "code",
   "execution_count": 23,
   "metadata": {},
   "outputs": [
    {
     "name": "stdout",
     "output_type": "stream",
     "text": [
      "AdaBoost train/test accuracies 1.0/0.8435754189944135\n",
      "AdaBoost gain 0.993421052631579\n"
     ]
    }
   ],
   "source": [
    "#Initialization of AdaBoostClassifier\n",
    "ada = AdaBoostClassifier(base_estimator=rf,\n",
    "                         n_estimators=10,\n",
    "                         learning_rate=0.1,\n",
    "                         random_state=1)\n",
    "#AdaBoost training\n",
    "ada = ada.fit(X_train,y_train)\n",
    "y_train_pred = ada.predict(X_train)\n",
    "y_test_pred = ada.predict(X_test)\n",
    "ada_train_score= accuracy_score(y_train,y_train_pred)\n",
    "ada_test_score= accuracy_score(y_test,y_test_pred)\n",
    "print(\"AdaBoost train/test accuracies {}/{}\".format(ada_train_score,ada_test_score))\n",
    "print(\"AdaBoost gain {}\".format(ada_test_score/rf_test_score))"
   ]
  },
  {
   "cell_type": "code",
   "execution_count": 12,
   "metadata": {
    "collapsed": true
   },
   "outputs": [],
   "source": [
    "#Prediction on real test set using ada boost \n",
    "survival_results =ada.predict(test_set)\n",
    "result_df = pd.DataFrame(data={'PassengerId':test_df['PassengerId'].values,\n",
    "                               'Survived':survival_results})\n",
    "result_df['Survived'] = [0 if x == False else 1 for x in result_df['Survived'] ]\n",
    "#Create output csv file\n",
    "result_df.to_csv(data_path+\"outputs/randomforest_ne_50_with_ada_ne_10.csv\",index=False)"
   ]
  },
  {
   "cell_type": "code",
   "execution_count": null,
   "metadata": {
    "collapsed": true
   },
   "outputs": [],
   "source": [
    "#TODO :automatic file naming with param values, clean test set in preprocessing, better graphs"
   ]
  }
 ],
 "metadata": {
  "kernelspec": {
   "display_name": "Python 3",
   "language": "python",
   "name": "python3"
  },
  "language_info": {
   "codemirror_mode": {
    "name": "ipython",
    "version": 3
   },
   "file_extension": ".py",
   "mimetype": "text/x-python",
   "name": "python",
   "nbconvert_exporter": "python",
   "pygments_lexer": "ipython3",
   "version": "3.6.2"
  }
 },
 "nbformat": 4,
 "nbformat_minor": 2
}
